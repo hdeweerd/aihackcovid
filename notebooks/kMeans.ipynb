{
 "cells": [
  {
   "cell_type": "code",
   "execution_count": 41,
   "id": "5bcd50ea-f5e2-443a-868d-105adefe97d5",
   "metadata": {},
   "outputs": [
    {
     "name": "stderr",
     "output_type": "stream",
     "text": [
      "c:\\users\\xoxix\\appdata\\local\\programs\\python\\python39\\lib\\site-packages\\IPython\\core\\interactiveshell.py:3169: DtypeWarning: Columns (33,61,62,93) have mixed types.Specify dtype option on import or set low_memory=False.\n",
      "  has_raised = await self.run_ast_nodes(code_ast.body, cell_name,\n"
     ]
    }
   ],
   "source": [
    "import pandas as pd\n",
    "import math\n",
    "import numpy as np\n",
    "import sklearn.cluster\n",
    "\n",
    "pd.set_option('display.max_columns', None)\n",
    "pd.set_option('display.max_rows', 500)\n",
    "\n",
    "data = pd.read_csv(r\"../data/full_data.csv\", dtype={\"test_units\":str})\n",
    "data['date'] = pd.to_datetime(data['date'], format = '%Y-%m-%d')"
   ]
  },
  {
   "cell_type": "code",
   "execution_count": 45,
   "id": "fbfd2095-d9b2-4a44-a504-bc15bc5e32a3",
   "metadata": {},
   "outputs": [],
   "source": [
    "triggers = {\"C1\": 3, \"C2\": 3, \"C4\": 4}\n",
    "\n",
    "severity_triggers = pd.DataFrame({\"iso_code\": data[\"iso_code\"].unique(), \"continent\": \"None\"})\n",
    "\n",
    "for key in triggers:\n",
    "    severity_triggers[key] = 6.0\n",
    "\n",
    "for index, row in severity_triggers.iterrows():\n",
    "    continent_data = data[\"continent\"][data[\"iso_code\"] == row[\"iso_code\"]]\n",
    "    if continent_data.shape[0] > 0:\n",
    "        severity_triggers.at[index, \"continent\"] = continent_data.iloc[0]\n",
    "    for key in triggers:\n",
    "        measure_dates = data[\"date\"][(data[\"iso_code\"] == row[\"iso_code\"]) & (data[key + \"_combined_numeric\"] == triggers[key])]\n",
    "        if measure_dates.shape[0] > 0:\n",
    "            new_value = data[\"reproduction_rate\"][(data[\"iso_code\"] == row[\"iso_code\"]) & (data[\"date\"] == min(measure_dates))].mean()\n",
    "            if (not math.isnan(new_value)):\n",
    "                severity_triggers.at[index, key] = new_value"
   ]
  },
  {
   "cell_type": "code",
   "execution_count": 51,
   "id": "6ee78257-5d58-4901-b6e3-0b59fb595d62",
   "metadata": {},
   "outputs": [
    {
     "data": {
      "text/html": [
       "<div>\n",
       "<style scoped>\n",
       "    .dataframe tbody tr th:only-of-type {\n",
       "        vertical-align: middle;\n",
       "    }\n",
       "\n",
       "    .dataframe tbody tr th {\n",
       "        vertical-align: top;\n",
       "    }\n",
       "\n",
       "    .dataframe thead th {\n",
       "        text-align: right;\n",
       "    }\n",
       "</style>\n",
       "<table border=\"1\" class=\"dataframe\">\n",
       "  <thead>\n",
       "    <tr style=\"text-align: right;\">\n",
       "      <th>continent</th>\n",
       "      <th>Africa</th>\n",
       "      <th>Asia</th>\n",
       "      <th>Europe</th>\n",
       "      <th>North America</th>\n",
       "      <th>Oceania</th>\n",
       "      <th>South America</th>\n",
       "    </tr>\n",
       "    <tr>\n",
       "      <th>policy_cluster</th>\n",
       "      <th></th>\n",
       "      <th></th>\n",
       "      <th></th>\n",
       "      <th></th>\n",
       "      <th></th>\n",
       "      <th></th>\n",
       "    </tr>\n",
       "  </thead>\n",
       "  <tbody>\n",
       "    <tr>\n",
       "      <th>0</th>\n",
       "      <td>32</td>\n",
       "      <td>18</td>\n",
       "      <td>9</td>\n",
       "      <td>14</td>\n",
       "      <td>5</td>\n",
       "      <td>8</td>\n",
       "    </tr>\n",
       "    <tr>\n",
       "      <th>1</th>\n",
       "      <td>5</td>\n",
       "      <td>20</td>\n",
       "      <td>26</td>\n",
       "      <td>6</td>\n",
       "      <td>1</td>\n",
       "      <td>2</td>\n",
       "    </tr>\n",
       "    <tr>\n",
       "      <th>2</th>\n",
       "      <td>14</td>\n",
       "      <td>9</td>\n",
       "      <td>8</td>\n",
       "      <td>1</td>\n",
       "      <td>2</td>\n",
       "      <td>2</td>\n",
       "    </tr>\n",
       "  </tbody>\n",
       "</table>\n",
       "</div>"
      ],
      "text/plain": [
       "continent       Africa  Asia  Europe  North America  Oceania  South America\n",
       "policy_cluster                                                             \n",
       "0                   32    18       9             14        5              8\n",
       "1                    5    20      26              6        1              2\n",
       "2                   14     9       8              1        2              2"
      ]
     },
     "execution_count": 51,
     "metadata": {},
     "output_type": "execute_result"
    }
   ],
   "source": [
    "k_means = sklearn.cluster.KMeans(n_clusters = 3)\n",
    "severity_triggers[\"policy_cluster\"] = k_means.fit_predict(severity_triggers[triggers.keys()])\n",
    "pd.crosstab(severity_triggers[\"policy_cluster\"], severity_triggers[\"continent\"])"
   ]
  },
  {
   "cell_type": "code",
   "execution_count": 52,
   "id": "0f992d1c-3c4f-4572-9c15-d0e48ce0b7b3",
   "metadata": {},
   "outputs": [
    {
     "data": {
      "text/plain": [
       "array([[5.89988372, 5.92430233, 6.        ],\n",
       "       [4.4265    , 1.60583333, 2.76083333],\n",
       "       [5.46361111, 6.        , 1.29527778]])"
      ]
     },
     "execution_count": 52,
     "metadata": {},
     "output_type": "execute_result"
    }
   ],
   "source": [
    "k_means.cluster_centers_"
   ]
  },
  {
   "cell_type": "code",
   "execution_count": 10,
   "id": "7c4d1885-d4f7-4d97-bd60-7ac7773bac17",
   "metadata": {},
   "outputs": [
    {
     "data": {
      "text/plain": [
       "5.79"
      ]
     },
     "execution_count": 10,
     "metadata": {},
     "output_type": "execute_result"
    }
   ],
   "source": [
    "import numpy as np\n",
    "\n",
    "np.nanmax(data[\"reproduction_rate\"])"
   ]
  },
  {
   "cell_type": "code",
   "execution_count": null,
   "id": "0529aa31-fdf5-4722-9142-6af01e0acf80",
   "metadata": {},
   "outputs": [],
   "source": []
  }
 ],
 "metadata": {
  "kernelspec": {
   "display_name": "Python 3",
   "language": "python",
   "name": "python3"
  },
  "language_info": {
   "codemirror_mode": {
    "name": "ipython",
    "version": 3
   },
   "file_extension": ".py",
   "mimetype": "text/x-python",
   "name": "python",
   "nbconvert_exporter": "python",
   "pygments_lexer": "ipython3",
   "version": "3.9.2"
  }
 },
 "nbformat": 4,
 "nbformat_minor": 5
}
